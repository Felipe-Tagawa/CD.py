{
 "cells": [
  {
   "cell_type": "markdown",
   "id": "17919b24",
   "metadata": {},
   "source": [
    "Importando a dependência do numPy e o dataSet"
   ]
  },
  {
   "cell_type": "code",
   "id": "728089c7",
   "metadata": {
    "ExecuteTime": {
     "end_time": "2025-09-01T17:44:01.971787Z",
     "start_time": "2025-09-01T17:44:01.953384Z"
    }
   },
   "source": [
    "import numpy as np\n",
    "\n",
    "ds = np.loadtxt('space.csv',\n",
    "                delimiter = ';',\n",
    "                dtype= str,\n",
    "                encoding= 'utf-8')\n",
    "\n",
    "header = ds[0]\n",
    "print(header)\n",
    "\n",
    "data = ds[1:] # Evitar a primeira linha (cabeçalho)\n",
    "print(data.shape)\n"
   ],
   "outputs": [
    {
     "name": "stdout",
     "output_type": "stream",
     "text": [
      "['\\ufeffNum' 'Company Name' 'Location' 'Datum' 'Detail' 'Status Rocket'\n",
      " ' Cost' 'Status Mission']\n",
      "(4324, 8)\n"
     ]
    }
   ],
   "execution_count": 4
  },
  {
   "cell_type": "markdown",
   "id": "63e004a3",
   "metadata": {},
   "source": [
    "Exercício 1 - Encontrar a porcentagem de sucessos nas missões"
   ]
  },
  {
   "cell_type": "code",
   "id": "1caf9900",
   "metadata": {
    "ExecuteTime": {
     "end_time": "2025-09-01T17:44:03.987475Z",
     "start_time": "2025-09-01T17:44:03.981598Z"
    }
   },
   "source": [
    "mission = data[:, 7]\n",
    "print(mission)\n",
    "\n",
    "missionSuccess = mission[mission=='Success']\n",
    "\n",
    "numSucess = len(missionSuccess)\n",
    "successRate = (numSucess / len(mission))\n",
    "\n",
    "print(f\"A taxa de sucesso foi de {successRate * 100:.2f} % !\")"
   ],
   "outputs": [
    {
     "name": "stdout",
     "output_type": "stream",
     "text": [
      "['Success' 'Success' 'Success' ... 'Failure' 'Success' 'Success']\n",
      "A taxa de sucesso foi de 89.71 % !\n"
     ]
    }
   ],
   "execution_count": 5
  },
  {
   "cell_type": "markdown",
   "id": "2ab486a6",
   "metadata": {},
   "source": [
    "Exercício 2 - Média de gastos nas missões considerando apenas valores maiores do que 0"
   ]
  },
  {
   "cell_type": "code",
   "id": "d23ba44f",
   "metadata": {
    "ExecuteTime": {
     "end_time": "2025-09-01T17:44:06.349440Z",
     "start_time": "2025-09-01T17:44:06.340156Z"
    }
   },
   "source": [
    "costColumn = data[:, 6].astype(float)\n",
    "\n",
    "meanValuesnotNull = costColumn[costColumn > 0]\n",
    "\n",
    "print(f\"A média dos valores maiores do que 0 é: {meanValuesnotNull.mean():.2f}\") # Colocando 2 casas decimais"
   ],
   "outputs": [
    {
     "name": "stdout",
     "output_type": "stream",
     "text": [
      "A média dos valores maiores do que 0 é: 153.79\n"
     ]
    }
   ],
   "execution_count": 6
  },
  {
   "cell_type": "markdown",
   "id": "e81c532e",
   "metadata": {},
   "source": [
    "Exercício 3 - Quantas missões foram realizadas pelos EUA"
   ]
  },
  {
   "cell_type": "code",
   "id": "492d5a27",
   "metadata": {
    "ExecuteTime": {
     "end_time": "2025-09-01T17:44:07.868489Z",
     "start_time": "2025-09-01T17:44:07.849723Z"
    }
   },
   "source": [
    "nationMission = data[:, 2]\n",
    "USAMission = len(nationMission[np.char.find(nationMission, 'USA') >= 0])\n",
    "print(f\"O número de missões realizadas pelos EUA foi de: {USAMission}\")"
   ],
   "outputs": [
    {
     "name": "stdout",
     "output_type": "stream",
     "text": [
      "O número de missões realizadas pelos EUA foi de: 1344\n"
     ]
    }
   ],
   "execution_count": 7
  },
  {
   "cell_type": "markdown",
   "id": "c8c80915",
   "metadata": {},
   "source": [
    "Exercício 4 - Qual a missão mais cara realizada pela SpaceX"
   ]
  },
  {
   "cell_type": "code",
   "id": "a6966c3e",
   "metadata": {
    "ExecuteTime": {
     "end_time": "2025-09-01T17:44:09.258492Z",
     "start_time": "2025-09-01T17:44:09.252139Z"
    }
   },
   "source": [
    "company = np.char.rstrip(data[:,1])\n",
    "missionSpaceX = company == 'SpaceX'\n",
    "costsSpaceX = costColumn[missionSpaceX]\n",
    "maxIndex = np.argmax(costsSpaceX)  # Encontra o maior custo da SpaceX\n",
    "\n",
    "print(f\"Maior custo da SpaceX: {costsSpaceX[maxIndex]:.2f}\")"
   ],
   "outputs": [
    {
     "name": "stdout",
     "output_type": "stream",
     "text": [
      "Maior custo da SpaceX: 90.00\n"
     ]
    }
   ],
   "execution_count": 8
  },
  {
   "cell_type": "markdown",
   "id": "7023d0dc",
   "metadata": {},
   "source": [
    "Exercício 5 - Nome das empresas que realizaram missões especiais com a quantidade usando for"
   ]
  },
  {
   "cell_type": "code",
   "id": "38402a45",
   "metadata": {
    "ExecuteTime": {
     "end_time": "2025-09-01T17:50:25.913833Z",
     "start_time": "2025-09-01T17:50:25.905995Z"
    }
   },
   "source": [
    "#print(np.unique(company, return_counts = True))\n",
    "\n",
    "companies, quantity = np.unique(company, return_counts = True)\n",
    "\n",
    "#print(companies)\n",
    "#print(quantity)\n",
    "\n",
    "for i in range(len(companies)):\n",
    "    print(f\"{companies[i]}: {quantity[i]} missões\")\n",
    "\n",
    "dictionary = {str(comp): int(qty) for comp, qty in zip(companies, quantity)}\n",
    "print(dictionary)"
   ],
   "outputs": [
    {
     "name": "stdout",
     "output_type": "stream",
     "text": [
      "AEB: 3 missões\n",
      "AMBA: 8 missões\n",
      "ASI: 9 missões\n",
      "Arianespace: 279 missões\n",
      "Arm??e de l'Air: 4 missões\n",
      "Blue Origin: 12 missões\n",
      "Boeing: 136 missões\n",
      "CASC: 251 missões\n",
      "CASIC: 5 missões\n",
      "CECLES: 4 missões\n",
      "CNES: 8 missões\n",
      "Douglas: 1 missões\n",
      "EER: 1 missões\n",
      "ESA: 13 missões\n",
      "Eurockot: 13 missões\n",
      "ExPace: 10 missões\n",
      "Exos: 4 missões\n",
      "General Dynamics: 251 missões\n",
      "IAI: 11 missões\n",
      "ILS: 46 missões\n",
      "IRGC: 1 missões\n",
      "ISA: 13 missões\n",
      "ISAS: 30 missões\n",
      "ISRO: 76 missões\n",
      "JAXA: 7 missões\n",
      "KARI: 3 missões\n",
      "KCST: 5 missões\n",
      "Khrunichev: 1 missões\n",
      "Kosmotras: 22 missões\n",
      "Land Launch: 7 missões\n",
      "Landspace: 1 missões\n",
      "Lockheed: 79 missões\n",
      "MHI: 84 missões\n",
      "MITT: 7 missões\n",
      "Martin Marietta: 114 missões\n",
      "NASA: 203 missões\n",
      "Northrop: 83 missões\n",
      "OKB-586: 2 missões\n",
      "OneSpace: 1 missões\n",
      "RAE: 2 missões\n",
      "RVSN USSR: 1777 missões\n",
      "Rocket Lab: 13 missões\n",
      "Roscosmos: 55 missões\n",
      "SRC: 3 missões\n",
      "Sandia: 1 missões\n",
      "Sea Launch: 36 missões\n",
      "SpaceX: 100 missões\n",
      "Starsem: 1 missões\n",
      "ULA: 140 missões\n",
      "US Air Force: 161 missões\n",
      "US Navy: 17 missões\n",
      "UT: 5 missões\n",
      "VKS RF: 201 missões\n",
      "Virgin Orbit: 1 missões\n",
      "Yuzhmash: 2 missões\n",
      "i-Space: 1 missões\n",
      "{'AEB': 3, 'AMBA': 8, 'ASI': 9, 'Arianespace': 279, \"Arm??e de l'Air\": 4, 'Blue Origin': 12, 'Boeing': 136, 'CASC': 251, 'CASIC': 5, 'CECLES': 4, 'CNES': 8, 'Douglas': 1, 'EER': 1, 'ESA': 13, 'Eurockot': 13, 'ExPace': 10, 'Exos': 4, 'General Dynamics': 251, 'IAI': 11, 'ILS': 46, 'IRGC': 1, 'ISA': 13, 'ISAS': 30, 'ISRO': 76, 'JAXA': 7, 'KARI': 3, 'KCST': 5, 'Khrunichev': 1, 'Kosmotras': 22, 'Land Launch': 7, 'Landspace': 1, 'Lockheed': 79, 'MHI': 84, 'MITT': 7, 'Martin Marietta': 114, 'NASA': 203, 'Northrop': 83, 'OKB-586': 2, 'OneSpace': 1, 'RAE': 2, 'RVSN USSR': 1777, 'Rocket Lab': 13, 'Roscosmos': 55, 'SRC': 3, 'Sandia': 1, 'Sea Launch': 36, 'SpaceX': 100, 'Starsem': 1, 'ULA': 140, 'US Air Force': 161, 'US Navy': 17, 'UT': 5, 'VKS RF': 201, 'Virgin Orbit': 1, 'Yuzhmash': 2, 'i-Space': 1}\n"
     ]
    }
   ],
   "execution_count": 12
  }
 ],
 "metadata": {
  "kernelspec": {
   "display_name": ".venv",
   "language": "python",
   "name": "python3"
  },
  "language_info": {
   "codemirror_mode": {
    "name": "ipython",
    "version": 3
   },
   "file_extension": ".py",
   "mimetype": "text/x-python",
   "name": "python",
   "nbconvert_exporter": "python",
   "pygments_lexer": "ipython3",
   "version": "3.13.2"
  }
 },
 "nbformat": 4,
 "nbformat_minor": 5
}
